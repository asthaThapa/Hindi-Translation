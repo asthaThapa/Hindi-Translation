{
 "cells": [
  {
   "cell_type": "code",
   "execution_count": 17,
   "metadata": {},
   "outputs": [],
   "source": [
    "from datasets import load_dataset\n",
    "import pandas as pd"
   ]
  },
  {
   "cell_type": "code",
   "execution_count": 18,
   "metadata": {},
   "outputs": [
    {
     "name": "stderr",
     "output_type": "stream",
     "text": [
      "Found cached dataset text (/Users/workbook01/.cache/huggingface/datasets/text/default-67be9eed97cd68cc/0.0.0/cb1e9bd71a82ad27976be3b12b407850fe2837d80c22c5e03a28949843a8ace2)\n"
     ]
    },
    {
     "data": {
      "application/vnd.jupyter.widget-view+json": {
       "model_id": "5cb19438545347a08e089dbf3f69d74c",
       "version_major": 2,
       "version_minor": 0
      },
      "text/plain": [
       "  0%|          | 0/1 [00:00<?, ?it/s]"
      ]
     },
     "metadata": {},
     "output_type": "display_data"
    }
   ],
   "source": [
    "hindi_data_set = load_dataset(\"text\", data_files=\"bookcorpus_1.txt\")"
   ]
  },
  {
   "cell_type": "code",
   "execution_count": 25,
   "metadata": {},
   "outputs": [
    {
     "name": "stdout",
     "output_type": "stream",
     "text": [
      "<generator object get_training_corpus at 0x12a407540>\n"
     ]
    }
   ],
   "source": [
    "\n",
    "def get_training_corpus(raw_datasets):\n",
    "    dataset = raw_datasets[\"train\"]\n",
    "    for start_idx in range(0, len(dataset), 1000):\n",
    "        samples = dataset[start_idx : start_idx + 1000]\n",
    "        yield samples[\"whole_func_string\"]\n",
    "\n",
    "training_corpus = get_training_corpus(hindi_data_set)\n",
    "print(training_corpus)\n"
   ]
  },
  {
   "cell_type": "code",
   "execution_count": 20,
   "metadata": {},
   "outputs": [],
   "source": [
    "from transformers import AutoTokenizer\n",
    "old_tokenizer = AutoTokenizer.from_pretrained(\"gpt2\")"
   ]
  },
  {
   "cell_type": "code",
   "execution_count": 30,
   "metadata": {},
   "outputs": [
    {
     "data": {
      "text/plain": [
       "['``',\n",
       " 'Ġà¤',\n",
       " 'ķ',\n",
       " 'à¥',\n",
       " 'į',\n",
       " 'à¤',\n",
       " '¯',\n",
       " 'à¤¾',\n",
       " 'Ġà¤',\n",
       " 'Ĩ',\n",
       " 'à¤',\n",
       " 'ª',\n",
       " 'Ġà¤',\n",
       " 'ı',\n",
       " 'à¤',\n",
       " 'ķ',\n",
       " 'Ġà¤',\n",
       " 'ħ',\n",
       " 'à¤',\n",
       " 'ļ',\n",
       " 'à¥',\n",
       " 'į',\n",
       " 'à¤',\n",
       " 'Ľ',\n",
       " 'à¥',\n",
       " 'ĩ',\n",
       " 'Ġà¤',\n",
       " '²',\n",
       " 'à¤',\n",
       " '¡',\n",
       " 'à¤',\n",
       " '¼',\n",
       " 'à¤',\n",
       " 'ķ',\n",
       " 'à¥',\n",
       " 'ĩ',\n",
       " 'Ġà¤',\n",
       " '¨',\n",
       " 'à¤',\n",
       " '¹',\n",
       " 'à¥',\n",
       " 'Ģ',\n",
       " 'à¤',\n",
       " 'Ĥ',\n",
       " 'Ġà¤',\n",
       " '¹',\n",
       " 'à¥',\n",
       " 'Ī',\n",
       " 'à¤',\n",
       " 'Ĥ',\n",
       " '?']"
      ]
     },
     "execution_count": 30,
     "metadata": {},
     "output_type": "execute_result"
    }
   ],
   "source": [
    "example = '`` क्या आप एक अच्छे लड़के नहीं हैं?'''\n",
    "\n",
    "tokens = old_tokenizer.tokenize(example)\n",
    "tokens"
   ]
  },
  {
   "cell_type": "code",
   "execution_count": 31,
   "metadata": {},
   "outputs": [
    {
     "name": "stdout",
     "output_type": "stream",
     "text": [
      "\n",
      "\n",
      "\n"
     ]
    }
   ],
   "source": [
    "tokenizer = old_tokenizer.train_new_from_iterator(training_corpus, 520)"
   ]
  },
  {
   "cell_type": "code",
   "execution_count": 32,
   "metadata": {},
   "outputs": [
    {
     "data": {
      "text/plain": [
       "['`',\n",
       " '`',\n",
       " 'Ġ',\n",
       " 'à',\n",
       " '¤',\n",
       " 'ķ',\n",
       " 'à',\n",
       " '¥',\n",
       " 'į',\n",
       " 'à',\n",
       " '¤',\n",
       " '¯',\n",
       " 'à',\n",
       " '¤',\n",
       " '¾',\n",
       " 'Ġ',\n",
       " 'à',\n",
       " '¤',\n",
       " 'Ĩ',\n",
       " 'à',\n",
       " '¤',\n",
       " 'ª',\n",
       " 'Ġ',\n",
       " 'à',\n",
       " '¤',\n",
       " 'ı',\n",
       " 'à',\n",
       " '¤',\n",
       " 'ķ',\n",
       " 'Ġ',\n",
       " 'à',\n",
       " '¤',\n",
       " 'ħ',\n",
       " 'à',\n",
       " '¤',\n",
       " 'ļ',\n",
       " 'à',\n",
       " '¥',\n",
       " 'į',\n",
       " 'à',\n",
       " '¤',\n",
       " 'Ľ',\n",
       " 'à',\n",
       " '¥',\n",
       " 'ĩ',\n",
       " 'Ġ',\n",
       " 'à',\n",
       " '¤',\n",
       " '²',\n",
       " 'à',\n",
       " '¤',\n",
       " '¡',\n",
       " 'à',\n",
       " '¤',\n",
       " '¼',\n",
       " 'à',\n",
       " '¤',\n",
       " 'ķ',\n",
       " 'à',\n",
       " '¥',\n",
       " 'ĩ',\n",
       " 'Ġ',\n",
       " 'à',\n",
       " '¤',\n",
       " '¨',\n",
       " 'à',\n",
       " '¤',\n",
       " '¹',\n",
       " 'à',\n",
       " '¥',\n",
       " 'Ģ',\n",
       " 'à',\n",
       " '¤',\n",
       " 'Ĥ',\n",
       " 'Ġ',\n",
       " 'à',\n",
       " '¤',\n",
       " '¹',\n",
       " 'à',\n",
       " '¥',\n",
       " 'Ī',\n",
       " 'à',\n",
       " '¤',\n",
       " 'Ĥ',\n",
       " '?']"
      ]
     },
     "execution_count": 32,
     "metadata": {},
     "output_type": "execute_result"
    }
   ],
   "source": [
    "tokens = tokenizer.tokenize(example)\n",
    "tokens"
   ]
  },
  {
   "cell_type": "code",
   "execution_count": 29,
   "metadata": {},
   "outputs": [
    {
     "data": {
      "application/vnd.jupyter.widget-view+json": {
       "model_id": "6543626e35cb4cf1b15563e41c7bea10",
       "version_major": 2,
       "version_minor": 0
      },
      "text/plain": [
       "Downloading tokenizer_config.json:   0%|          | 0.00/29.0 [00:00<?, ?B/s]"
      ]
     },
     "metadata": {},
     "output_type": "display_data"
    },
    {
     "data": {
      "application/vnd.jupyter.widget-view+json": {
       "model_id": "240a6d6282fe4cb89a83d63eb27e11b6",
       "version_major": 2,
       "version_minor": 0
      },
      "text/plain": [
       "Downloading config.json:   0%|          | 0.00/570 [00:00<?, ?B/s]"
      ]
     },
     "metadata": {},
     "output_type": "display_data"
    },
    {
     "data": {
      "application/vnd.jupyter.widget-view+json": {
       "model_id": "cd5be089b2174d739e36aec1bc759743",
       "version_major": 2,
       "version_minor": 0
      },
      "text/plain": [
       "Downloading vocab.txt:   0%|          | 0.00/213k [00:00<?, ?B/s]"
      ]
     },
     "metadata": {},
     "output_type": "display_data"
    },
    {
     "data": {
      "application/vnd.jupyter.widget-view+json": {
       "model_id": "c4fbe404bd8a44df9ec999c3cbd97bc1",
       "version_major": 2,
       "version_minor": 0
      },
      "text/plain": [
       "Downloading tokenizer.json:   0%|          | 0.00/436k [00:00<?, ?B/s]"
      ]
     },
     "metadata": {},
     "output_type": "display_data"
    },
    {
     "name": "stdout",
     "output_type": "stream",
     "text": [
      "<class 'transformers.tokenization_utils_base.BatchEncoding'>\n"
     ]
    }
   ],
   "source": [
    "from transformers import AutoTokenizer\n",
    "\n",
    "tokenizer = AutoTokenizer.from_pretrained(\"bert-base-cased\")\n",
    "example = \"My name is Sylvain and I work at Hugging Face in Brooklyn.\"\n",
    "encoding = tokenizer(example)\n",
    "print(type(encoding))"
   ]
  }
 ],
 "metadata": {
  "kernelspec": {
   "display_name": "base",
   "language": "python",
   "name": "python3"
  },
  "language_info": {
   "codemirror_mode": {
    "name": "ipython",
    "version": 3
   },
   "file_extension": ".py",
   "mimetype": "text/x-python",
   "name": "python",
   "nbconvert_exporter": "python",
   "pygments_lexer": "ipython3",
   "version": "3.11.5"
  }
 },
 "nbformat": 4,
 "nbformat_minor": 2
}
